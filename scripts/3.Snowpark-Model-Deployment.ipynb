{
 "cells": [
  {
   "cell_type": "markdown",
   "id": "74fa8f0e",
   "metadata": {},
   "source": [
    "# Customer churn analysis\n",
    "\n",
    "\n",
    "# Machine Learning Pipeline\n",
    "\n",
    "In the following notebooks, we will go through the implementation of each one of the steps in the Machine Learning Pipeline. \n",
    "\n",
    "We will discuss:\n",
    "\n",
    "1. Data Preparation and Analysis\n",
    "2. Feature Engineering\n",
    "3. Feature Selection\n",
    "4. Model Training\n",
    "5. Obtaining Predictions / Scoring"
   ]
  },
  {
   "cell_type": "markdown",
   "id": "d5d26bb4",
   "metadata": {},
   "source": [
    "## Import Python and Snowpark Packages"
   ]
  },
  {
   "cell_type": "code",
   "execution_count": null,
   "id": "ae7750a0",
   "metadata": {},
   "outputs": [],
   "source": [
    "from snowflake.snowpark.session import Session\n",
    "from snowflake.snowpark import functions as F\n",
    "from snowflake.snowpark.types import *\n",
    "from snowflake.snowpark.functions import udf\n",
    "\n",
    "\n",
    "import pandas as pd\n",
    "import matplotlib.pyplot as plt\n",
    "%matplotlib inline\n",
    "import datetime as dt\n",
    "import numpy as np\n",
    "import seaborn as sns\n",
    "\n",
    "import json\n",
    "import ast\n",
    "\n",
    "# to divide train and test set\n",
    "from sklearn.model_selection import train_test_split\n",
    "\n",
    "# feature scaling\n",
    "#from sklearn.preprocessing import MinMaxScaler\n",
    "from sklearn.model_selection import StratifiedShuffleSplit, StratifiedKFold, RepeatedStratifiedKFold, train_test_split, cross_val_score\n",
    "from sklearn.pipeline import make_pipeline\n",
    "\n",
    "\n",
    "\n",
    "from sklearn.datasets import make_classification\n",
    "from snowflake.snowpark import Session, DataFrame\n",
    "from snowflake.ml.modeling.xgboost import XGBClassifier\n",
    "from snowflake.ml.modeling.model_selection.grid_search_cv import GridSearchCV\n",
    "from snowflake.snowpark.functions import udf, col, lit, translate, is_null, iff\n",
    "from snowflake.snowpark.version import VERSION\n",
    "# setup pipeline\n",
    "\n",
    "#transformations\n",
    "from sklearn.preprocessing import OrdinalEncoder\n",
    "from sklearn.impute import SimpleImputer\n",
    "from sklearn.preprocessing import MinMaxScaler\n",
    "from sklearn.preprocessing import FunctionTransformer\n",
    "\n",
    "#snowpark_ml\n",
    "from snowflake.ml._internal.utils import identifier\n",
    "from snowflake.ml.modeling.impute import SimpleImputer\n",
    "from snowflake.ml.modeling.metrics import accuracy_score, precision_score, recall_score\n",
    "from snowflake.ml.modeling.model_selection import GridSearchCV\n",
    "from snowflake.ml.modeling.preprocessing import OneHotEncoder\n",
    "from snowflake.ml.modeling.xgboost import XGBClassifier\n",
    "from snowflake.ml.registry import model_registry\n",
    "from snowflake.ml.registry import Registry\n",
    "from snowflake.ml.utils.connection_params import SnowflakeLoginOptions\n",
    "from snowflake.snowpark import Session\n",
    "from snowflake.snowpark import types as T\n",
    "from snowflake.snowpark.functions import col\n",
    "from snowflake.ml.modeling.preprocessing import MinMaxScaler\n",
    "from snowflake.ml.modeling.preprocessing import OrdinalEncoder\n",
    "from snowflake.ml.modeling.pipeline import Pipeline\n",
    "\n",
    "#Classifier\n",
    "from sklearn.ensemble import RandomForestClassifier\n",
    "\n",
    "#Pipeline\n",
    "from sklearn.pipeline import make_pipeline\n",
    "\n",
    "#Model Accuracy\n",
    "from sklearn.metrics import balanced_accuracy_score\n",
    "\n",
    "# to save the trained scaler class\n",
    "import joblib"
   ]
  },
  {
   "cell_type": "markdown",
   "id": "6480a2a8",
   "metadata": {},
   "source": [
    "## Connect to Snowflake Account and Create a Session"
   ]
  },
  {
   "cell_type": "code",
   "execution_count": null,
   "id": "9bb1d0a1",
   "metadata": {},
   "outputs": [],
   "source": [
    "\n",
    "# connect to Snowflake\n",
    "with open(\"creds.json\", \"r\") as f:\n",
    "    snowflake_conn_prop = json.load(f)  \n",
    "session = Session.builder.configs(snowflake_conn_prop).create()\n",
    "\n",
    "session.sql_simplifier_enabled = True\n",
    "\n",
    "snowflake_environment = session.sql('SELECT current_user(), current_version()').collect()\n",
    "snowpark_version = VERSION\n",
    "\n",
    "\n",
    "# Current Environment Details\n",
    "print('\\nConnection Established with the following parameters:')\n",
    "print('User                        : {}'.format(snowflake_environment[0][0]))\n",
    "print('Role                        : {}'.format(session.get_current_role()))\n",
    "print('Database                    : {}'.format(session.get_current_database()))\n",
    "print('Schema                      : {}'.format(session.get_current_schema()))\n",
    "print('Warehouse                   : {}'.format(session.get_current_warehouse()))\n",
    "print('Snowflake version           : {}'.format(snowflake_environment[0][1]))\n",
    "print('Snowpark for Python version : {}.{}.{}'.format(snowpark_version[0],snowpark_version[1],snowpark_version[2]))"
   ]
  },
  {
   "cell_type": "code",
   "execution_count": null,
   "id": "f5be4ffa",
   "metadata": {},
   "outputs": [],
   "source": [
    "%%time\n",
    "final_data = session.table('TRAIN_CHURN_DATASET_BIN')\n",
    "final_data.show(5)"
   ]
  },
  {
   "cell_type": "code",
   "execution_count": null,
   "id": "9cf4ff97",
   "metadata": {},
   "outputs": [],
   "source": [
    "CUSTOMERID = final_data.select(\"CUSTOMERID\")\n",
    "CUSTOMERID.show(5)"
   ]
  },
  {
   "cell_type": "code",
   "execution_count": null,
   "id": "9f1729d9",
   "metadata": {},
   "outputs": [],
   "source": [
    "final_data = final_data.drop(\"CUSTOMERID\") # \"TENUREMONTHS\"\n",
    "final_data.show(5)"
   ]
  },
  {
   "cell_type": "code",
   "execution_count": null,
   "id": "c50965d2",
   "metadata": {},
   "outputs": [],
   "source": [
    "final_data.columns"
   ]
  },
  {
   "cell_type": "code",
   "execution_count": null,
   "id": "09b2d1be",
   "metadata": {},
   "outputs": [],
   "source": [
    "cat_cols = ['PHONESERVICE_YES',\n",
    " 'MULTIPLELINES_NO_PHONE_SERVICE',\n",
    " 'MULTIPLELINES_YES',\n",
    " 'INTERNETSERVICE_FIBER_OPTIC',\n",
    " 'INTERNETSERVICE_NO',\n",
    " 'ONLINESECURITY_NO_INTERNET_SERVICE',\n",
    " 'ONLINESECURITY_YES',\n",
    " 'ONLINEBACKUP_NO_INTERNET_SERVICE',\n",
    " 'ONLINEBACKUP_YES',\n",
    " 'DEVICEPROTECTION_NO_INTERNET_SERVICE',\n",
    " 'DEVICEPROTECTION_YES',\n",
    " 'TECHSUPPORT_NO_INTERNET_SERVICE',\n",
    " 'TECHSUPPORT_YES',\n",
    " 'STREAMINGTV_NO_INTERNET_SERVICE',\n",
    " 'STREAMINGTV_YES',\n",
    " 'STREAMINGMOVIES_NO_INTERNET_SERVICE',\n",
    " 'STREAMINGMOVIES_YES',\n",
    " 'CONTRACT_ONE_YEAR',\n",
    " 'CONTRACT_TWO_YEAR',\n",
    " 'PAPERLESSBILLING_YES',\n",
    " 'PAYMENTMETHOD_CREDIT_CARD',\n",
    " 'PAYMENTMETHOD_ELECTRONIC_CHECK',\n",
    " 'PAYMENTMETHOD_MAILED_CHECK',\n",
    " 'MONTHLYCHARGESBIN_LOW',\n",
    " 'MONTHLYCHARGESBIN_MEDIUM',\n",
    " 'TOTALCHARGESBIN_LOW',\n",
    " 'TOTALCHARGESBIN_MEDIUM',]\n",
    "\n",
    "num_cols = ['TENUREMONTHS',\n",
    " 'MONTHLYCHARGES',\n",
    " 'TOTALCHARGES']"
   ]
  },
  {
   "cell_type": "code",
   "execution_count": null,
   "id": "c57e6405",
   "metadata": {},
   "outputs": [],
   "source": [
    "impute_cat = SimpleImputer(\n",
    "    input_cols=cat_cols,\n",
    "    output_cols=cat_cols,\n",
    "    strategy=\"most_frequent\",\n",
    "    drop_input_cols=True,\n",
    ")\n",
    "\n",
    "final_data = impute_cat.fit(final_data).transform(final_data)\n",
    "final_data.show()"
   ]
  },
  {
   "cell_type": "code",
   "execution_count": null,
   "id": "d8cb059b",
   "metadata": {},
   "outputs": [],
   "source": [
    "# Convert all columns to upper case using alias\n",
    "new_columns = [final_data[col].alias(col.upper()) for col in final_data.columns]\n",
    "final_data = final_data.select(*new_columns)\n",
    "\n",
    "# Show the updated DataFrame\n",
    "final_data.show()"
   ]
  },
  {
   "cell_type": "markdown",
   "id": "b22f4f5d",
   "metadata": {},
   "source": [
    "# Separate dataset into train and test\n",
    "\n",
    "It is important to separate our data intro training and testing set. \n",
    "\n",
    "When we engineer features, some techniques learn parameters from data. It is important to learn these parameters only from the train set. This is to avoid over-fitting."
   ]
  },
  {
   "cell_type": "code",
   "execution_count": null,
   "id": "334e90ed",
   "metadata": {},
   "outputs": [],
   "source": [
    "# Let's separate into train and test set\n",
    "# Remember to set the seed (random_state for this sklearn function)\n",
    "# seed value\n",
    "train_df, test_df = final_data.random_split(weights=[0.8, 0.2], seed=25)\n"
   ]
  },
  {
   "cell_type": "code",
   "execution_count": null,
   "id": "fe0cdeb3",
   "metadata": {},
   "outputs": [],
   "source": [
    "train_df.show(5)"
   ]
  },
  {
   "cell_type": "code",
   "execution_count": null,
   "id": "2f62dd24",
   "metadata": {},
   "outputs": [],
   "source": [
    "test_df.show(5)"
   ]
  },
  {
   "cell_type": "code",
   "execution_count": null,
   "id": "bdfb0672",
   "metadata": {},
   "outputs": [],
   "source": [
    "parameters = {\n",
    "    \"n_estimators\": [100, 200, 300, 400, 500],\n",
    "    \"learning_rate\": [0.1, 0.2, 0.3, 0.4, 0.5],\n",
    "    \"max_depth\": list(range(3, 6, 1)),\n",
    "    \"min_child_weight\": list(range(1, 6, 1)),\n",
    "}"
   ]
  },
  {
   "cell_type": "code",
   "execution_count": null,
   "id": "1ceadc2c",
   "metadata": {},
   "outputs": [],
   "source": [
    "parameters"
   ]
  },
  {
   "cell_type": "code",
   "execution_count": null,
   "id": "60ebb65f",
   "metadata": {},
   "outputs": [],
   "source": [
    "session.sql(\n",
    "    f\"ALTER WAREHOUSE {session.get_current_warehouse()[1:-1]} SET WAREHOUSE_SIZE=LARGE;\"\n",
    ").collect()"
   ]
  },
  {
   "cell_type": "code",
   "execution_count": null,
   "id": "534f1d3f",
   "metadata": {},
   "outputs": [],
   "source": [
    "grid_search = GridSearchCV(\n",
    "    estimator=XGBClassifier(),\n",
    "    param_grid=parameters,\n",
    "    n_jobs=-1,\n",
    "    scoring=\"accuracy\",\n",
    "    input_cols=train_df.drop(\"CHURNVALUE\").columns,\n",
    "    label_cols=\"CHURNVALUE\",\n",
    "    output_cols=\"PRED_CHURNVALUE\",\n",
    ")\n",
    "\n",
    "# Train\n",
    "grid_search.fit(train_df)"
   ]
  },
  {
   "cell_type": "code",
   "execution_count": null,
   "id": "b9dbdd5e",
   "metadata": {},
   "outputs": [],
   "source": [
    "session.sql(\n",
    "    f\"ALTER WAREHOUSE {session.get_current_warehouse()[1:-1]} SET WAREHOUSE_SIZE=XSMALL;\"\n",
    ").collect()"
   ]
  },
  {
   "cell_type": "code",
   "execution_count": null,
   "id": "55e237d9",
   "metadata": {},
   "outputs": [],
   "source": [
    "result = grid_search.predict(test_df)"
   ]
  },
  {
   "cell_type": "code",
   "execution_count": null,
   "id": "58a4cd45",
   "metadata": {},
   "outputs": [],
   "source": [
    "accuracy = accuracy_score(\n",
    "    df=result, y_true_col_names=\"CHURNVALUE\", y_pred_col_names=\"PRED_CHURNVALUE\"\n",
    ")\n",
    "\n",
    "print(f\"Accuracy: {accuracy}\")"
   ]
  },
  {
   "cell_type": "code",
   "execution_count": null,
   "id": "6a336cbf",
   "metadata": {},
   "outputs": [],
   "source": [
    "# Print each combination of hyperparameters with their accuracy\n",
    "results = grid_search.to_sklearn().cv_results_\n",
    "data = {\"accuracy\": results[\"mean_test_score\"]}\n",
    "for i, param in enumerate(results[\"params\"]):\n",
    "    for key, value in param.items():\n",
    "        if key not in data:\n",
    "            data[key] = [None] * len(results[\"params\"])\n",
    "        data[key][i] = value\n",
    "\n",
    "# Create DataFrame\n",
    "hp_df = pd.DataFrame(data).sort_values(by=\"accuracy\", ascending=False)\n",
    "hp_df.head()"
   ]
  },
  {
   "cell_type": "markdown",
   "id": "48506171",
   "metadata": {},
   "source": [
    "# Model Registry"
   ]
  },
  {
   "cell_type": "code",
   "execution_count": null,
   "id": "4b929124",
   "metadata": {},
   "outputs": [],
   "source": [
    "optimal_model = grid_search.to_sklearn().best_estimator_\n",
    "optimal_n_estimators = optimal_model.n_estimators\n",
    "optimal_learning_rate = optimal_model.learning_rate\n",
    "optimal_max_depth = optimal_model.max_depth\n",
    "optimal_min_child_weight = optimal_model.min_child_weight\n",
    "optimal_accuracy = hp_df[\"accuracy\"][0]"
   ]
  },
  {
   "cell_type": "code",
   "execution_count": null,
   "id": "89a3c1a9",
   "metadata": {},
   "outputs": [],
   "source": [
    "# create function to add one to our model number if it already exists\n",
    "\n",
    "def check_and_update(df, model_name):\n",
    "    if df.empty:\n",
    "        return \"V_1\"\n",
    "    elif df[df[\"name\"] == model_name].empty:\n",
    "        return \"V_1\"\n",
    "    else:\n",
    "        # Increment model_version if df is not a pandas Series\n",
    "        lst = sorted(ast.literal_eval(df[\"versions\"][0]))\n",
    "        last_value = lst[-1]\n",
    "        prefix, num = last_value.rsplit(\"_\", 1)\n",
    "        new_last_value = f\"{prefix}_{int(num)+1}\"\n",
    "        lst[-1] = new_last_value\n",
    "        return new_last_value"
   ]
  },
  {
   "cell_type": "code",
   "execution_count": null,
   "id": "0ead7bd6",
   "metadata": {},
   "outputs": [],
   "source": [
    "# Get sample input data to pass into the registry logging function\n",
    "X = train_df.drop(\"CHURNVALUE\").limit(100)\n",
    "\n",
    "# Create a registry and log the model\n",
    "# You can specify a different DB and Schema if you'd like\n",
    "# otherwise it uses the session context\n",
    "reg = Registry(session=session)\n",
    "\n",
    "reg_df = reg.show_models()\n",
    "\n",
    "# Define model name and version\n",
    "model_name = \"CHURN_MODEL\"\n",
    "\n",
    "model_version = check_and_update(reg_df, model_name)\n",
    "\n",
    "churn_model = reg.log_model(\n",
    "    model_name=model_name,\n",
    "    version_name=model_version,\n",
    "    model=optimal_model,\n",
    "    sample_input_data=X,\n",
    ")\n",
    "\n",
    "# Add evaluation metric\n",
    "churn_model.set_metric(\n",
    "    metric_name=\"accuracy\",\n",
    "    value=hp_df[\"accuracy\"][0],\n",
    ")\n"
   ]
  },
  {
   "cell_type": "code",
   "execution_count": null,
   "id": "74d6f3bc",
   "metadata": {},
   "outputs": [],
   "source": [
    "# Let's confirm it was added\n",
    "reg.show_models()"
   ]
  },
  {
   "cell_type": "code",
   "execution_count": null,
   "id": "55e4280e",
   "metadata": {},
   "outputs": [],
   "source": [
    "hyperparameters = {\n",
    "    k: v for k, v in optimal_model.get_params().items() if v and k != \"missing\"\n",
    "}\n",
    "churn_model.set_metric(metric_name=\"hyperparameters\", value=hyperparameters)"
   ]
  },
  {
   "cell_type": "code",
   "execution_count": null,
   "id": "3f7aa227",
   "metadata": {},
   "outputs": [],
   "source": [
    "pd.options.display.max_colwidth = 500\n",
    "reg.get_model(model_name).show_versions()"
   ]
  },
  {
   "cell_type": "code",
   "execution_count": null,
   "id": "30f0bc7f",
   "metadata": {},
   "outputs": [],
   "source": [
    "reg_df = reg.get_model(model_name).show_versions()\n",
    "reg_df[\"accuracy\"] = reg_df[\"metadata\"].apply(\n",
    "    lambda x: json.loads(x)[\"metrics\"][\"accuracy\"]\n",
    ")\n",
    "best_model = reg_df.sort_values(by=\"accuracy\", ascending=False)"
   ]
  },
  {
   "cell_type": "code",
   "execution_count": null,
   "id": "a8120bf4",
   "metadata": {},
   "outputs": [],
   "source": [
    "deployed_version = best_model[\"name\"].iloc[0]\n",
    "deployed_version"
   ]
  },
  {
   "cell_type": "code",
   "execution_count": null,
   "id": "80d5bb7d",
   "metadata": {},
   "outputs": [],
   "source": [
    "m = reg.get_model(model_name)\n",
    "m.default = deployed_version\n",
    "mv = m.default\n",
    "mv.version_name"
   ]
  },
  {
   "cell_type": "code",
   "execution_count": null,
   "id": "a3ea50ac",
   "metadata": {},
   "outputs": [],
   "source": [
    "remote_prediction = mv.run(test_df, function_name=\"predict_proba\")\n",
    "remote_prediction.show()"
   ]
  },
  {
   "cell_type": "code",
   "execution_count": null,
   "id": "72bf8307",
   "metadata": {},
   "outputs": [],
   "source": [
    "# To test in SQL write test data back to a table\n",
    "\n",
    "test_df.write.mode(\"overwrite\").save_as_table(\"TEST_DATA\")"
   ]
  },
  {
   "cell_type": "markdown",
   "id": "7376522d",
   "metadata": {},
   "source": [
    "## Add images to stage for Streamlit App"
   ]
  },
  {
   "cell_type": "code",
   "execution_count": null,
   "id": "1770f341",
   "metadata": {},
   "outputs": [],
   "source": [
    "#session.file.put(\"../streamlit_images/*\", \"@ML_DATA\")"
   ]
  },
  {
   "cell_type": "markdown",
   "id": "6fa36071",
   "metadata": {},
   "source": [
    "## Calling model from a new notebook"
   ]
  },
  {
   "cell_type": "code",
   "execution_count": null,
   "id": "c9050f8f",
   "metadata": {},
   "outputs": [],
   "source": [
    "# Point to the registry\n",
    "\n",
    "reg = Registry(session=session)\n",
    "\n",
    "# Get the default version of your model (Model with best accuracy in our case)\n",
    "\n",
    "mv = reg.get_model(\"CHURN_MODEL\").default\n",
    "\n",
    "remote_prediction = mv.run(test_df, function_name=\"predict_proba\")\n",
    "remote_prediction.drop('\"output_feature_0\"').with_column_renamed(\n",
    "    '\"output_feature_1\"', \"pred_churnvalue\"\n",
    ").show()"
   ]
  },
  {
   "cell_type": "markdown",
   "id": "e657f747",
   "metadata": {},
   "source": [
    "## To delete your model and all of it's versions"
   ]
  },
  {
   "cell_type": "code",
   "execution_count": null,
   "id": "7215279e",
   "metadata": {},
   "outputs": [],
   "source": [
    "reg.delete_model(\"CHURN_MODEL\")"
   ]
  },
  {
   "cell_type": "code",
   "execution_count": null,
   "id": "2f6a1d63",
   "metadata": {},
   "outputs": [],
   "source": [
    "session.close()"
   ]
  }
 ],
 "metadata": {
  "kernelspec": {
   "display_name": "Python 3 (ipykernel)",
   "language": "python",
   "name": "python3"
  },
  "language_info": {
   "codemirror_mode": {
    "name": "ipython",
    "version": 3
   },
   "file_extension": ".py",
   "mimetype": "text/x-python",
   "name": "python",
   "nbconvert_exporter": "python",
   "pygments_lexer": "ipython3",
   "version": "3.9.18"
  },
  "vscode": {
   "interpreter": {
    "hash": "6297ec0394cd0a9f8996d9ae65d297808cbf00f3dbbe86db7fa7a80d51cc9063"
   }
  }
 },
 "nbformat": 4,
 "nbformat_minor": 5
}
