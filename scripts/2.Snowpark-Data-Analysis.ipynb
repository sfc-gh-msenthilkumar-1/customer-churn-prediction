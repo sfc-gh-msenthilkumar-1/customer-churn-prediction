{
 "cells": [
  {
   "cell_type": "markdown",
   "id": "40e74aaa",
   "metadata": {},
   "source": [
    "# Customer Churn Analysis | Data analysis (EDA)\n",
    "\n",
    "This demo is continuation of the telco pipeline after data load, clean and transformation. We will now try to explore data using snowpark and other python library. This task help us identify further transformations, importatn variable discovery and any feature engineering thats required later.\n",
    "\n",
    "## Analysis\n",
    "\n",
    "**We will analyse the following:**\n",
    "\n",
    "1. The target variable\n",
    "2. Variable types (categorical and numerical)\n",
    "3. Missing data\n",
    "4. Numerical variables\n",
    "    - Discrete\n",
    "    - Continuous\n",
    "    - Distributions\n",
    "    - Transformations\n",
    "\n",
    "5. Categorical variables\n",
    "    - Cardinality\n",
    "    - Rare Labels\n",
    "    - Special mappings\n"
   ]
  },
  {
   "cell_type": "code",
   "execution_count": null,
   "id": "0a418434",
   "metadata": {},
   "outputs": [],
   "source": [
    "#import sys\n",
    "#sys.path.append(\"/Applications/opt/anaconda3/envs/spk-39-ml/lib/python3.9/site-packages\")\n",
    "#sys.path"
   ]
  },
  {
   "cell_type": "markdown",
   "id": "f8e4f6a0",
   "metadata": {},
   "source": [
    "### Import Snowpark and Python packages"
   ]
  },
  {
   "cell_type": "code",
   "execution_count": null,
   "id": "f0b06da4",
   "metadata": {},
   "outputs": [],
   "source": [
    "# Snowpark for Python\n",
    "from snowflake.snowpark import Session\n",
    "from snowflake.snowpark.version import VERSION\n",
    "import snowflake.snowpark.functions as F\n",
    "from snowflake.snowpark.types import *\n",
    "from snowflake.snowpark import Session\n",
    "from snowflake.snowpark import types as T\n",
    "from snowflake.snowpark.functions import col\n",
    "\n",
    "# Snowpark ML\n",
    "import snowflake.ml.modeling.preprocessing as snowml\n",
    "from snowflake.ml.modeling.pipeline import Pipeline\n",
    "from snowflake.ml.modeling.metrics.correlation import correlation\n",
    "from snowflake.ml.modeling.impute import SimpleImputer\n",
    "from snowflake.ml.modeling.metrics import accuracy_score, precision_score, recall_score\n",
    "from snowflake.ml.modeling.preprocessing import OneHotEncoder\n",
    "from snowflake.ml.modeling.preprocessing import StandardScaler\n",
    "from snowflake.ml.utils.connection_params import SnowflakeLoginOptions\n",
    "\n",
    "from sklearn.preprocessing import StandardScaler, PolynomialFeatures\n",
    "\n",
    "# Data Science Libs\n",
    "import numpy as np\n",
    "import pandas as pd\n",
    "import matplotlib.pyplot as plt\n",
    "import seaborn as sns\n",
    "import dython\n",
    "import math\n",
    "\n",
    "# Misc\n",
    "import json\n",
    "import joblib\n",
    "\n",
    "# warning suppresion\n",
    "import warnings; warnings.simplefilter('ignore')\n",
    "\n",
    "import pandas as pd\n",
    "\n",
    "from sklearn import linear_model\n",
    "\n",
    "%matplotlib inline\n",
    "import datetime as dt\n",
    "\n",
    "import warnings\n",
    "warnings.filterwarnings(\"ignore\")\n",
    "\n",
    "# lets import some tranformations functions\n",
    "from snowflake.snowpark.functions import udf, col, lit, translate, is_null, iff"
   ]
  },
  {
   "cell_type": "markdown",
   "id": "0ab59151",
   "metadata": {},
   "source": [
    "##  Establishing a connection to the Snowflake database using Snowpark"
   ]
  },
  {
   "cell_type": "code",
   "execution_count": null,
   "id": "24477372",
   "metadata": {},
   "outputs": [],
   "source": [
    "\n",
    "# connect to Snowflake\n",
    "with open(\"creds.json\", \"r\") as f:\n",
    "    snowflake_conn_prop = json.load(f)  \n",
    "session = Session.builder.configs(snowflake_conn_prop).create()\n",
    "\n",
    "session.sql_simplifier_enabled = True\n",
    "\n",
    "snowflake_environment = session.sql('SELECT current_user(), current_version()').collect()\n",
    "snowpark_version = VERSION\n",
    "\n",
    "\n",
    "# Current Environment Details\n",
    "print('\\nConnection Established with the following parameters:')\n",
    "print('User                        : {}'.format(snowflake_environment[0][0]))\n",
    "print('Role                        : {}'.format(session.get_current_role()))\n",
    "print('Database                    : {}'.format(session.get_current_database()))\n",
    "print('Schema                      : {}'.format(session.get_current_schema()))\n",
    "print('Warehouse                   : {}'.format(session.get_current_warehouse()))\n",
    "print('Snowflake version           : {}'.format(snowflake_environment[0][1]))\n",
    "print('Snowpark for Python version : {}.{}.{}'.format(snowpark_version[0],snowpark_version[1],snowpark_version[2]))"
   ]
  },
  {
   "cell_type": "markdown",
   "id": "fa338e49",
   "metadata": {},
   "source": [
    "### Create a Snowpark Dataframe"
   ]
  },
  {
   "cell_type": "code",
   "execution_count": null,
   "id": "9e619437",
   "metadata": {},
   "outputs": [],
   "source": [
    "%%time\n",
    "\n",
    "data_df = session.table('TRAIN_CHURN_DATASET_BIN')\n",
    "#data = raw.toPandas()"
   ]
  },
  {
   "cell_type": "markdown",
   "id": "658d1d70",
   "metadata": {},
   "source": [
    "### Check for the Column names in the data set"
   ]
  },
  {
   "cell_type": "code",
   "execution_count": null,
   "id": "b076a5da",
   "metadata": {},
   "outputs": [],
   "source": [
    "data_df.columns"
   ]
  },
  {
   "cell_type": "markdown",
   "id": "0114ced8",
   "metadata": {},
   "source": [
    "### Run a SQL statement within a session"
   ]
  },
  {
   "cell_type": "code",
   "execution_count": null,
   "id": "4dd05f62",
   "metadata": {},
   "outputs": [],
   "source": [
    "session.sql(\"SELECT * FROM TRAIN_CHURN_DATASET_BIN LIMIT 10;\").collect()"
   ]
  },
  {
   "cell_type": "code",
   "execution_count": null,
   "id": "3da9e95b",
   "metadata": {},
   "outputs": [],
   "source": [
    "data_df.show()"
   ]
  },
  {
   "cell_type": "markdown",
   "id": "364ed789",
   "metadata": {},
   "source": [
    "### Number of records in the dataset"
   ]
  },
  {
   "cell_type": "code",
   "execution_count": null,
   "id": "77df019c",
   "metadata": {},
   "outputs": [],
   "source": [
    "data_df.count()"
   ]
  },
  {
   "cell_type": "markdown",
   "id": "e13b4add",
   "metadata": {},
   "source": [
    "## Check Target Distribution\n",
    "\n",
    "Let's begin by exploring the target distribution."
   ]
  },
  {
   "cell_type": "code",
   "execution_count": null,
   "id": "7ca56e83",
   "metadata": {},
   "outputs": [],
   "source": [
    "# We'll print the target variable, target names, and frequency of each unique value:\n",
    "\n",
    "data_pd = data_df.to_pandas()\n",
    "\n",
    "(unique, counts) = np.unique(data_pd['CHURNVALUE'], return_counts=True)\n",
    "\n",
    "print('Unique values of target variable', unique)\n",
    "print('Counts of target variable', counts)"
   ]
  },
  {
   "cell_type": "code",
   "execution_count": null,
   "id": "1e172f4e",
   "metadata": {},
   "outputs": [],
   "source": [
    "sns.barplot(x=unique, y=counts)\n",
    "plt.title('Target variable counts in dataset')\n",
    "plt.show()"
   ]
  },
  {
   "cell_type": "code",
   "execution_count": null,
   "id": "355a531d",
   "metadata": {},
   "outputs": [],
   "source": [
    "\n",
    "# collect some basic info on our features\n",
    "data_pd.info()"
   ]
  },
  {
   "cell_type": "code",
   "execution_count": null,
   "id": "f2287aee",
   "metadata": {},
   "outputs": [],
   "source": [
    "# get household ids from dataframe\n",
    "custid_data = data_pd[['CUSTOMERID']]\n",
    "\n",
    "# remove household ids from dataframe\n",
    "features_data = data_pd.drop(['CUSTOMERID'], axis=1)\n",
    "\n",
    "features_data"
   ]
  },
  {
   "cell_type": "code",
   "execution_count": null,
   "id": "975a3101",
   "metadata": {},
   "outputs": [],
   "source": [
    "features_data.describe()"
   ]
  },
  {
   "cell_type": "markdown",
   "id": "1b077842",
   "metadata": {},
   "source": [
    "### 2.2 Feature scalling\n",
    "#### There are three numerical columns with the following distributions:"
   ]
  },
  {
   "cell_type": "code",
   "execution_count": null,
   "id": "60ba9ac1",
   "metadata": {},
   "outputs": [],
   "source": [
    "def distplot(feature, frame, color='g'):\n",
    "    plt.figure(figsize=(8,3))\n",
    "    plt.title(\"Distribution for {}\".format(feature))\n",
    "    ax = sns.distplot(frame[feature], color= color)\n",
    "\n",
    "numerical_cols = ['TENUREMONTHS', 'MONTHLYCHARGES', 'TOTALCHARGES']\n",
    "features_data[numerical_cols].describe()"
   ]
  },
  {
   "cell_type": "markdown",
   "id": "ec3dd9c5",
   "metadata": {},
   "source": [
    "### Distribution of Numerical Variables"
   ]
  },
  {
   "cell_type": "code",
   "execution_count": null,
   "id": "a500b7d1",
   "metadata": {},
   "outputs": [],
   "source": [
    "for feat in numerical_cols: distplot(feat, features_data)"
   ]
  },
  {
   "cell_type": "markdown",
   "id": "95c33bb9",
   "metadata": {},
   "source": [
    "### Distribution of Categorical Variables"
   ]
  },
  {
   "cell_type": "code",
   "execution_count": null,
   "id": "ad2ae700",
   "metadata": {},
   "outputs": [],
   "source": [
    "# Define the categorical variables\n",
    "categorical_vars = [\n",
    "    'PHONESERVICE_YES', 'MULTIPLELINES_NO_PHONE_SERVICE', 'MULTIPLELINES_YES',\n",
    "    'INTERNETSERVICE_FIBER_OPTIC', 'INTERNETSERVICE_NO',\n",
    "    'ONLINESECURITY_NO_INTERNET_SERVICE', 'ONLINESECURITY_YES',\n",
    "    'ONLINEBACKUP_NO_INTERNET_SERVICE', 'ONLINEBACKUP_YES',\n",
    "    'DEVICEPROTECTION_NO_INTERNET_SERVICE', 'DEVICEPROTECTION_YES',\n",
    "    'TECHSUPPORT_NO_INTERNET_SERVICE', 'TECHSUPPORT_YES',\n",
    "    'STREAMINGTV_NO_INTERNET_SERVICE', 'STREAMINGTV_YES',\n",
    "    'STREAMINGMOVIES_NO_INTERNET_SERVICE', 'STREAMINGMOVIES_YES',\n",
    "    'CONTRACT_ONE_YEAR', 'CONTRACT_TWO_YEAR', 'PAPERLESSBILLING_YES',\n",
    "    'PAYMENTMETHOD_CREDIT_CARD', 'PAYMENTMETHOD_ELECTRONIC_CHECK',\n",
    "    'PAYMENTMETHOD_MAILED_CHECK', 'MONTHLYCHARGESBIN_LOW',\n",
    "    'MONTHLYCHARGESBIN_MEDIUM', 'TOTALCHARGESBIN_LOW',\n",
    "    'TOTALCHARGESBIN_MEDIUM'\n",
    "]"
   ]
  },
  {
   "cell_type": "code",
   "execution_count": null,
   "id": "6f332cd3",
   "metadata": {},
   "outputs": [],
   "source": [
    "# Define the layout for subplots\n",
    "num_cols = 4\n",
    "num_rows = (len(categorical_vars) + num_cols - 1) // num_cols\n",
    "\n",
    "# Create subplots\n",
    "fig, axes = plt.subplots(num_rows, num_cols, figsize=(15, 20))\n",
    "\n",
    "# Plotting the countplot for each categorical variable\n",
    "for i, var in enumerate(categorical_vars):\n",
    "    row = i // num_cols\n",
    "    col = i % num_cols\n",
    "    sns.countplot(data=features_data, x=var, ax=axes[row, col])\n",
    "    axes[row, col].set_title(f'{var}')\n",
    "    axes[row, col].set_xticklabels(axes[row, col].get_xticklabels(), rotation=45)\n",
    "\n",
    "# Adjust layout\n",
    "plt.tight_layout()\n",
    "plt.show()"
   ]
  },
  {
   "cell_type": "code",
   "execution_count": null,
   "id": "295eca2d",
   "metadata": {},
   "outputs": [],
   "source": [
    "data_df.show(10)"
   ]
  },
  {
   "cell_type": "markdown",
   "id": "96bb54b7",
   "metadata": {},
   "source": [
    "## Off to ~02 notebook for model deployment\n"
   ]
  },
  {
   "cell_type": "code",
   "execution_count": null,
   "id": "c180046a",
   "metadata": {},
   "outputs": [],
   "source": [
    "session.close()"
   ]
  }
 ],
 "metadata": {
  "kernelspec": {
   "display_name": "Python 3 (ipykernel)",
   "language": "python",
   "name": "python3"
  },
  "language_info": {
   "codemirror_mode": {
    "name": "ipython",
    "version": 3
   },
   "file_extension": ".py",
   "mimetype": "text/x-python",
   "name": "python",
   "nbconvert_exporter": "python",
   "pygments_lexer": "ipython3",
   "version": "3.9.18"
  },
  "vscode": {
   "interpreter": {
    "hash": "6297ec0394cd0a9f8996d9ae65d297808cbf00f3dbbe86db7fa7a80d51cc9063"
   }
  }
 },
 "nbformat": 4,
 "nbformat_minor": 5
}
